{
 "cells": [
  {
   "cell_type": "code",
   "execution_count": null,
   "metadata": {},
   "outputs": [],
   "source": [
    "import cv2 as cv\n",
    "import glob\n",
    "import matplotlib.pyplot as plt\n",
    "import numpy as np"
   ]
  },
  {
   "cell_type": "code",
   "execution_count": null,
   "metadata": {},
   "outputs": [],
   "source": [
    "# Termination criteria\n",
    "criteria = (cv.TERM_CRITERIA_EPS + cv.TERM_CRITERIA_MAX_ITER, 30, 0.001)\n",
    "\n",
    "# Prepare object points, like (0,0,0), (1,0,0), (2,0,0) ....,(6,5,0)\n",
    "objp = np.zeros((6 * 7,3), np.float32)\n",
    "objp[:, :2] = np.mgrid[0:7, 0:6].T.reshape(-1,2)\n",
    "\n",
    "object_points = [] # 3D point in real world space\n",
    "image_points = []  # 2D points in image plane.\n",
    "\n",
    "images_path = glob.glob(\"../Images/*.jpg\")\n",
    "\n",
    "for path in images_path:\n",
    "    image = cv.imread(path)\n",
    "    gray = cv.cvtColor(image, cv.COLOR_BGR2GRAY)\n",
    "\n",
    "    # Find the chess board corners\n",
    "    found, corners = cv.findChessboardCorners(gray, (7, 6), None)\n",
    "\n",
    "    if found:\n",
    "        object_points.append(objp)\n",
    "        corners2 = cv.cornerSubPix(gray,corners, (11, 11), (-1, -1), criteria)\n",
    "        image_points.append(corners2)\n",
    "\n",
    "        # Draw and display the corners\n",
    "        cv.drawChessboardCorners(image, (7, 6), corners2, found)\n",
    "\n",
    "        plt.axis(\"off\")\n",
    "        plt.imshow(image)"
   ]
  },
  {
   "cell_type": "markdown",
   "metadata": {},
   "source": [
    "## Calibration"
   ]
  },
  {
   "cell_type": "code",
   "execution_count": null,
   "metadata": {},
   "outputs": [],
   "source": [
    "ret, mtx, dist, rvecs, tvecs = cv.calibrateCamera(object_points, image_points, gray.shape[::-1], None, None)"
   ]
  }
 ],
 "metadata": {
  "kernelspec": {
   "display_name": "Python 3",
   "language": "python",
   "name": "python3"
  },
  "language_info": {
   "codemirror_mode": {
    "name": "ipython",
    "version": 3
   },
   "file_extension": ".py",
   "mimetype": "text/x-python",
   "name": "python",
   "nbconvert_exporter": "python",
   "pygments_lexer": "ipython3",
   "version": "3.10.12"
  },
  "orig_nbformat": 4
 },
 "nbformat": 4,
 "nbformat_minor": 2
}
